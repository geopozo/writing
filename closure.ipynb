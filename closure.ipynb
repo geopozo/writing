{
 "cells": [
  {
   "cell_type": "markdown",
   "metadata": {},
   "source": [
    "# **Alcance (Scope)**\n",
    "En Python existe una regla llamada LEGB, por sus siglas: Local, Enclosing (Envolvente), Global y Built-in (Integrado)."
   ]
  },
  {
   "cell_type": "markdown",
   "metadata": {},
   "source": [
    "### **Ejemplo de Alcance**"
   ]
  },
  {
   "cell_type": "code",
   "execution_count": 2,
   "metadata": {},
   "outputs": [
    {
     "name": "stdout",
     "output_type": "stream",
     "text": [
      "Imprimir dentro de un alcance global\n",
      "Imprimir dentro de un alcance local\n",
      "Imprimir dentro de un alcance envolvente o nonlocal\n"
     ]
    }
   ],
   "source": [
    "x = \"global\"\n",
    "def local():\n",
    "    z = \"local\"\n",
    "    print(f\"Imprimir dentro de un alcance {z}\")\n",
    "\n",
    "def envolvente():\n",
    "    y = \"envolvente\"\n",
    "    def interno():\n",
    "        print(f\"Imprimir dentro de un alcance {y} o nonlocal\")\n",
    "    interno()\n",
    "\n",
    "print(f\"Imprimir dentro de un alcance {x}\")\n",
    "local()\n",
    "envolvente()"
   ]
  },
  {
   "cell_type": "markdown",
   "metadata": {},
   "source": [
    "Sobre los Integrados, son palabras reservadas del sistema, tales como: `True`, `False`, `None`, `and`, `as`, `assert`, `break`, `class`, `contine`, etc."
   ]
  },
  {
   "cell_type": "markdown",
   "metadata": {},
   "source": [
    "# **Closure en Python**"
   ]
  },
  {
   "cell_type": "markdown",
   "metadata": {},
   "source": [
    "## **¿Qué es un Closure?**\n",
    "Un **closure** en Python es una función que \"recuerda\" el entorno o contexto en el que fue creada, para esto accede a un alcance (scope) superior. El programador puede modificar una variable accediendo directamente a su espacio en memoria con un **nonlocal** o puede solo hacer una lectura del valor de la variable, sin tener que usar esa declaración."
   ]
  },
  {
   "cell_type": "markdown",
   "metadata": {},
   "source": [
    "### **Ejemplo 1 de Closure**\n",
    "En este ejemplo, la función interna `agregar_cadena()` modifica la variable `cadena_sin_espacios` empleando **nonlocal** , así el scope de esa variable es de `agregar_texto()`, sumando un `\" \"` y el valor de `texto`:"
   ]
  },
  {
   "cell_type": "code",
   "execution_count": 6,
   "metadata": {},
   "outputs": [
    {
     "name": "stdout",
     "output_type": "stream",
     "text": [
      "Texto antes del closure dentro, en el scope de agrega_texto(): Hola\n",
      "Texto después del closure: Hola Mundo!\n"
     ]
    }
   ],
   "source": [
    "x = \"Hola \"\n",
    "\n",
    "def agrega_texto(cadena, texto):\n",
    "    cadena_sin_espacios = cadena[:-1]\n",
    "    print(f\"Texto antes del closure dentro, en el scope de agrega_texto(): {cadena_sin_espacios}\")\n",
    "\n",
    "    def agregar_cadena():\n",
    "        nonlocal cadena_sin_espacios  # Usamos 'nonlocal' para modificar la variable 'cadena_sin_espacios'\n",
    "        cadena_sin_espacios = cadena_sin_espacios + \" \" + texto\n",
    "    agregar_cadena()\n",
    "\n",
    "    return cadena_sin_espacios\n",
    "\n",
    "\n",
    "cadena = agrega_texto(x, \"Mundo!\")\n",
    "print(f\"Texto después del closure: {cadena}\")"
   ]
  },
  {
   "cell_type": "markdown",
   "metadata": {},
   "source": [
    "### **Ejemplo 2 de Closure**\n",
    "En este ejemplo, la función interna `agregar_cadena()` utiliza la variable `cadena_sin_espacios` y `texto` ya que son solo de lectura:"
   ]
  },
  {
   "cell_type": "code",
   "execution_count": 8,
   "metadata": {},
   "outputs": [
    {
     "name": "stdout",
     "output_type": "stream",
     "text": [
      "Hola Mundo!\n"
     ]
    }
   ],
   "source": [
    "x = \"Hola \"\n",
    "\n",
    "def agrega_texto(cadena, texto):\n",
    "    cadena_sin_espacios = cadena[:-1]\n",
    "    def agregar_cadena():  \n",
    "        # No usamos 'nonlocal' porque no se modifican las variables, solo se accesa a su valor\n",
    "        return cadena_sin_espacios + \" \"+ texto + \"!\"\n",
    "    return agregar_cadena()\n",
    "\n",
    "cadena = agrega_texto(x, \"Mundo\")\n",
    "print(cadena)"
   ]
  },
  {
   "cell_type": "markdown",
   "metadata": {},
   "source": [
    "## **Excepciones que no requieren `nonlocal`**\n",
    "Al ser Python un lenguaje que maneja POO, posee algunas clases nativas las cuales tienen métodos que modifican el valor interno de la variable, pero no accesan a su dirección en memoria (por eso no necesiatan declarar `nonlocal` ni `global`), por esto no necesitan emplear **nonlocal** para modificar una variable, como por ejemplo los métodos `append()` y `extend()` que son nativos de las listas de Pyhton."
   ]
  },
  {
   "cell_type": "markdown",
   "metadata": {},
   "source": [
    "### **Ejemplo 1: Usando `append()`**\n",
    "En este ejemplo, `append()` modifica la lista sin necesidad de declarar `nonlocal`:"
   ]
  },
  {
   "cell_type": "code",
   "execution_count": 2,
   "metadata": {},
   "outputs": [
    {
     "name": "stdout",
     "output_type": "stream",
     "text": [
      "Se ha agregado el 5 a la lista\n",
      "Tu lista es: [1, 2, 3, 4, 5]\n"
     ]
    }
   ],
   "source": [
    "def agregar_e_imprimir_lista(numero):\n",
    "    lista_numeros = [1, 2, 3, 4]  # Lista definida dentro de la función\n",
    "    \n",
    "    def agregar_numero(numero):\n",
    "        lista_numeros.append(numero)  # 'append()' no requiere 'nonlocal' para modificar 'lista_numeros'\n",
    "        print(f\"Se ha agregado el {numero} a la lista\")\n",
    "        return lista_numeros\n",
    "    \n",
    "    return agregar_numero(numero)\n",
    "\n",
    "lista_actualizada = agregar_e_imprimir_lista(5)\n",
    "print(f\"Tu lista es: {lista_actualizada}\")"
   ]
  },
  {
   "cell_type": "markdown",
   "metadata": {},
   "source": [
    "### **Ejemplo 2: Usando `extend()`**\n",
    "En este caso, `extend()` también modifica la lista sin necesidad de `nonlocal`:"
   ]
  },
  {
   "cell_type": "code",
   "execution_count": 3,
   "metadata": {},
   "outputs": [
    {
     "name": "stdout",
     "output_type": "stream",
     "text": [
      "Se han agregado los números [5, 6, 7, 8, 9, 10] a la lista\n",
      "Tu lista es: [1, 2, 3, 4, 5, 6, 7, 8, 9, 10]\n"
     ]
    }
   ],
   "source": [
    "def extender_e_imprimir_lista(numeros):\n",
    "    lista_numeros = [1, 2, 3, 4]  # Lista definida dentro de la función\n",
    "    \n",
    "    def extender_lista(numeros):\n",
    "        lista_numeros.extend(numeros)  # 'extend()' no requiere 'nonlocal'\n",
    "        print(f\"Se han agregado los números {numeros} a la lista\")\n",
    "        return lista_numeros\n",
    "    \n",
    "    return extender_lista(numeros)\n",
    "\n",
    "lista_extendida = extender_e_imprimir_lista([5, 6, 7, 8, 9, 10])\n",
    "print(f\"Tu lista es: {lista_extendida}\")"
   ]
  }
 ],
 "metadata": {
  "kernelspec": {
   "display_name": "Python 3",
   "language": "python",
   "name": "python3"
  },
  "language_info": {
   "codemirror_mode": {
    "name": "ipython",
    "version": 3
   },
   "file_extension": ".py",
   "mimetype": "text/x-python",
   "name": "python",
   "nbconvert_exporter": "python",
   "pygments_lexer": "ipython3",
   "version": "3.12.7"
  }
 },
 "nbformat": 4,
 "nbformat_minor": 2
}

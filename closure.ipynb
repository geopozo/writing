{
 "cells": [
  {
   "cell_type": "markdown",
   "metadata": {},
   "source": [
    "# **Closure en Python**"
   ]
  },
  {
   "cell_type": "markdown",
   "metadata": {},
   "source": [
    "## **¿Qué es un Closure?**\n",
    "Un **closure** en Python es una función que \"recuerda\" el entorno o contexto en el que fue creada, para esto accede a un alcance (scope) superior. Para entender closures, es importante conocer los tipos de **alcance** (scope) en Python:\n",
    "- **Global**: Variables accesibles en todo el script.\n",
    "- **Nonlocal**: Variables que se encuentran en un scope superior, pero no son globales.\n",
    "- **Local**: Variables accesibles solo dentro de una función.\n",
    "\n",
    "Los closures en Python usan variables con un alcance **nonlocal**, lo que permite que una función interna acceda a variables definidas en una función externa."
   ]
  },
  {
   "cell_type": "markdown",
   "metadata": {},
   "source": [
    "### **Ejemplo 1 de Closure**\n",
    "En este ejemplo, la función interna `sumatoria()` utiliza la variable `suma` que tiene alcance **nonlocal**, accediendo al scope de suma en `sumatoria_de_lista()`:"
   ]
  },
  {
   "cell_type": "code",
   "execution_count": 1,
   "metadata": {},
   "outputs": [
    {
     "name": "stdout",
     "output_type": "stream",
     "text": [
      "Suma antes del closure dentro, en el scope de sumatoria_de_lista(): 0\n",
      "Esta es mi sumatoria de la lista de números: 10\n"
     ]
    }
   ],
   "source": [
    "lista_numeros = [1, 2, 3, 4]\n",
    "\n",
    "def sumatoria_de_lista(lista):\n",
    "    suma = 0\n",
    "    print(f\"Suma antes del closure dentro, en el scope de sumatoria_de_lista(): {suma}\")\n",
    "    \n",
    "    def sumatoria():\n",
    "        nonlocal suma  # Usamos 'nonlocal' para modificar la variable 'suma' del scope superior de 'sumatoria de lista()'\n",
    "        for numero in lista:\n",
    "            suma += numero\n",
    "        return suma\n",
    "    \n",
    "    return sumatoria()\n",
    "\n",
    "resultado_sum = sumatoria_de_lista(lista_numeros)\n",
    "print(f\"Esta es mi sumatoria de la lista de números: {resultado_sum}\")"
   ]
  },
  {
   "cell_type": "markdown",
   "metadata": {},
   "source": [
    "### **Ejemplo 2 de Closure**\n",
    "En este ejemplo, la función interna `agregar_cadena()` utiliza la variable `cadena_sin_espacios` y `texto` que tienen alcance **nonlocal** aunque no se declare, ya que son solo de lectura, así el scope de esas esas variables es de `agregar_texto()`:"
   ]
  },
  {
   "cell_type": "code",
   "execution_count": 8,
   "metadata": {},
   "outputs": [
    {
     "name": "stdout",
     "output_type": "stream",
     "text": [
      "Hola Mundo!\n"
     ]
    }
   ],
   "source": [
    "x = \"Hola \"\n",
    "\n",
    "def agrega_texto(cadena, texto):\n",
    "    cadena_sin_espacios = cadena[:-1]\n",
    "    def agregar_cadena():  \n",
    "        # No usamos 'nonlocal' porque no se modifican las variables, solo se accesa a su valor\n",
    "        return cadena_sin_espacios + \" \"+ texto + \"!\"\n",
    "    return agregar_cadena()\n",
    "\n",
    "cadena = agrega_texto(x, \"Mundo\")\n",
    "print(cadena)"
   ]
  },
  {
   "cell_type": "markdown",
   "metadata": {},
   "source": [
    "## **Excepciones que no requieren `nonlocal`**\n",
    "Al ser Python un lenguaje que maneja POO, posee algunas clases nativas las cuales tienen métodos que modifican el valor interno de la variable, pero no accesan a su dirección en memoria (por eso no necesiatan declarar `nonlocal` ni `global`), como por ejemplo los métodos `append()` y `extend()` que son nativos de las listas de Pyhton."
   ]
  },
  {
   "cell_type": "markdown",
   "metadata": {},
   "source": [
    "### **Ejemplo 1: Usando `append()`**\n",
    "En este ejemplo, `append()` modifica la lista sin necesidad de declarar `nonlocal`:"
   ]
  },
  {
   "cell_type": "code",
   "execution_count": 2,
   "metadata": {},
   "outputs": [
    {
     "name": "stdout",
     "output_type": "stream",
     "text": [
      "Se ha agregado el 5 a la lista\n",
      "Tu lista es: [1, 2, 3, 4, 5]\n"
     ]
    }
   ],
   "source": [
    "def agregar_e_imprimir_lista(numero):\n",
    "    lista_numeros = [1, 2, 3, 4]  # Lista definida dentro de la función\n",
    "    \n",
    "    def agregar_numero(numero):\n",
    "        lista_numeros.append(numero)  # 'append()' no requiere 'nonlocal' para modificar 'lista_numeros'\n",
    "        print(f\"Se ha agregado el {numero} a la lista\")\n",
    "        return lista_numeros\n",
    "    \n",
    "    return agregar_numero(numero)\n",
    "\n",
    "lista_actualizada = agregar_e_imprimir_lista(5)\n",
    "print(f\"Tu lista es: {lista_actualizada}\")"
   ]
  },
  {
   "cell_type": "markdown",
   "metadata": {},
   "source": [
    "### **Ejemplo 2: Usando `extend()`**\n",
    "En este caso, `extend()` también modifica la lista sin necesidad de `nonlocal`:"
   ]
  },
  {
   "cell_type": "code",
   "execution_count": 3,
   "metadata": {},
   "outputs": [
    {
     "name": "stdout",
     "output_type": "stream",
     "text": [
      "Se han agregado los números [5, 6, 7, 8, 9, 10] a la lista\n",
      "Tu lista es: [1, 2, 3, 4, 5, 6, 7, 8, 9, 10]\n"
     ]
    }
   ],
   "source": [
    "def extender_e_imprimir_lista(numeros):\n",
    "    lista_numeros = [1, 2, 3, 4]  # Lista definida dentro de la función\n",
    "    \n",
    "    def extender_lista(numeros):\n",
    "        lista_numeros.extend(numeros)  # 'extend()' no requiere 'nonlocal'\n",
    "        print(f\"Se han agregado los números {numeros} a la lista\")\n",
    "        return lista_numeros\n",
    "    \n",
    "    return extender_lista(numeros)\n",
    "\n",
    "lista_extendida = extender_e_imprimir_lista([5, 6, 7, 8, 9, 10])\n",
    "print(f\"Tu lista es: {lista_extendida}\")"
   ]
  }
 ],
 "metadata": {
  "kernelspec": {
   "display_name": "Python 3",
   "language": "python",
   "name": "python3"
  },
  "language_info": {
   "codemirror_mode": {
    "name": "ipython",
    "version": 3
   },
   "file_extension": ".py",
   "mimetype": "text/x-python",
   "name": "python",
   "nbconvert_exporter": "python",
   "pygments_lexer": "ipython3",
   "version": "3.12.7"
  }
 },
 "nbformat": 4,
 "nbformat_minor": 2
}

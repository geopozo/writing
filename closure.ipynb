{
 "cells": [
  {
   "cell_type": "markdown",
   "metadata": {},
   "source": [
    "<h1>Closure</h1>"
   ]
  },
  {
   "cell_type": "markdown",
   "metadata": {},
   "source": [
    "En python un tema fundamental es Closure, pero para esto, primero tendremos que hablar de los alcances (scope)"
   ]
  },
  {
   "cell_type": "markdown",
   "metadata": {},
   "source": [
    "<p>Para estos hay que entender que existen diferentes tipos de alcance:\n",
    "</br>- global\n",
    "</br>- nonlocal\n",
    "</br>- local</p>\n",
    "<p>En este caso, los closure hacen uso de un un alcance nonlocal, el cuál es una variable a la cuál se accede desde una función interna a una variable de un scope mayor</p>"
   ]
  },
  {
   "cell_type": "code",
   "execution_count": 2,
   "metadata": {},
   "outputs": [
    {
     "name": "stdout",
     "output_type": "stream",
     "text": [
      "Suma antes del closure dentro, en el scope de sumatoria_de_lista(): 0\n",
      "Esta es mi sumatoria de la lista de numeros: 10\n"
     ]
    }
   ],
   "source": [
    "lista_numeros = [1,2,3,4]\n",
    "\n",
    "def sumatoria_de_lista(lista):\n",
    "    suma = 0\n",
    "    print(f\"Suma antes del closure dentro, en el scope de sumatoria_de_lista(): {suma}\")\n",
    "    def sumatoria():\n",
    "        nonlocal suma #Aquí usamos nonlocal para poder modificar el valor de la variable suma\n",
    "        for numero in lista: #No usamos la función sum(), para hacer más visible el algoritmo\n",
    "            suma += numero\n",
    "        return suma\n",
    "    return sumatoria()\n",
    "\n",
    "sum = sumatoria_de_lista(lista_numeros)\n",
    "print(f\"Esta es mi sumatoria de la lista de numeros: {sum}\")"
   ]
  },
  {
   "cell_type": "markdown",
   "metadata": {},
   "source": [
    "También hay que tener en cuenta que existen algunas funciones que usan internamente alcances globales, es necesario aclarar que los globales no son del closure pero funcionan si es una variable de mi función de un alcance superior."
   ]
  },
  {
   "cell_type": "code",
   "execution_count": 5,
   "metadata": {},
   "outputs": [
    {
     "name": "stdout",
     "output_type": "stream",
     "text": [
      "Se ha agregado el 5 a la lista\n",
      "Tu lista es: [1, 2, 3, 4, 5]\n"
     ]
    }
   ],
   "source": [
    "def agregar_e_imprimir_lista(numero):\n",
    "    lista_numeros = [1,2,3,4] #ejemplo de lista de una función\n",
    "    def agregar_numero(numero):\n",
    "        lista_numeros.append(numero) #append es una función que no necesita usar nonlocal\n",
    "                                     #para modificar el valor de una variable con alcance mayor\n",
    "        print(f\"Se ha agregado el {numero} a la lista\")\n",
    "        return lista_numeros\n",
    "    return agregar_numero(numero)\n",
    "lista_agregada = agregar_e_imprimir_lista(5)\n",
    "print(f\"Tu lista es: {lista_agregada}\")"
   ]
  },
  {
   "cell_type": "code",
   "execution_count": 8,
   "metadata": {},
   "outputs": [
    {
     "name": "stdout",
     "output_type": "stream",
     "text": [
      "Se han agregado los números [5, 6, 7, 8, 9, 10] a la lista\n",
      "Tu lista es: [1, 2, 3, 4, 5, 6, 7, 8, 9, 10]\n"
     ]
    }
   ],
   "source": [
    "def extender_e_imprimir_lista(numeros):\n",
    "    lista_numeros = [1,2,3,4] #ejemplo de lista de una función\n",
    "    def extender_lista(numeros):\n",
    "        lista_numeros.extend(numeros) #extend es una función que no necesita usar nonlocal\n",
    "                                      #para modificar el valor de una variable con alcance mayor\n",
    "        print(f\"Se han agregado los números {numeros} a la lista\")\n",
    "        return lista_numeros\n",
    "    return extender_lista(numeros)\n",
    "lista_agregada = extender_e_imprimir_lista([5, 6, 7, 8, 9, 10])\n",
    "print(f\"Tu lista es: {lista_agregada}\")"
   ]
  }
 ],
 "metadata": {
  "kernelspec": {
   "display_name": "Python 3",
   "language": "python",
   "name": "python3"
  },
  "language_info": {
   "codemirror_mode": {
    "name": "ipython",
    "version": 3
   },
   "file_extension": ".py",
   "mimetype": "text/x-python",
   "name": "python",
   "nbconvert_exporter": "python",
   "pygments_lexer": "ipython3",
   "version": "3.12.7"
  }
 },
 "nbformat": 4,
 "nbformat_minor": 2
}

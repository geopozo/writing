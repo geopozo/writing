{
 "cells": [
  {
   "cell_type": "markdown",
   "metadata": {},
   "source": [
    "<h1>Closure</h1>"
   ]
  },
  {
   "cell_type": "markdown",
   "metadata": {},
   "source": [
    "En python un tema fundamental es Closure, las cuales son funciones que pueden ser asignadas como variables"
   ]
  },
  {
   "cell_type": "code",
   "execution_count": 7,
   "metadata": {},
   "outputs": [],
   "source": [
    "lista_numeros = [1,2,3,4]\n",
    "def agregar_numero(lista, numero):\n",
    "    lista.append(numero)\n",
    "    print(f\"Se ha agregado el {numero} a la lista\")\n",
    "def agregar_e_imprimir_lista(funcion, lista, numero):\n",
    "    funcion(lista, numero)\n",
    "    print(f\"Tu lista es: {lista}\")"
   ]
  },
  {
   "cell_type": "markdown",
   "metadata": {},
   "source": [
    "Creamos nuestra función agregar_numero() la cual será usada como un parámetro dentro de agregar_e_imprimir_lista()"
   ]
  },
  {
   "cell_type": "markdown",
   "metadata": {},
   "source": [
    "Por eso podemos usar directamente agregar_e_imprimir_lista(), usando agregar_numero(), como un closure"
   ]
  },
  {
   "cell_type": "code",
   "execution_count": 8,
   "metadata": {},
   "outputs": [
    {
     "name": "stdout",
     "output_type": "stream",
     "text": [
      "Se ha agregado el 5 a la lista\n",
      "Tu lista es: [1, 2, 3, 4, 5]\n"
     ]
    }
   ],
   "source": [
    "agregar_e_imprimir_lista(agregar_numero, lista_numeros, 5)"
   ]
  },
  {
   "cell_type": "markdown",
   "metadata": {},
   "source": [
    "como podemos ver, usamos un closure en agregar_e_imprimir_lista(), para usarlo internamente en la función"
   ]
  },
  {
   "cell_type": "markdown",
   "metadata": {},
   "source": [
    "Otro ejemplo puede ser al emplear funciones anidadas"
   ]
  },
  {
   "cell_type": "code",
   "execution_count": 16,
   "metadata": {},
   "outputs": [],
   "source": [
    "def sumatoria_de_lista(lista):\n",
    "    def sumatoria():\n",
    "        suma = 0\n",
    "        for numero in lista: #No usamos la función sum(), para hacer más visible el algoritmo\n",
    "            suma += numero\n",
    "        return suma\n",
    "    return sumatoria"
   ]
  },
  {
   "cell_type": "markdown",
   "metadata": {},
   "source": [
    "Obtenemos de esta forma, nuestra sumatoria de la lista de numeros"
   ]
  },
  {
   "cell_type": "code",
   "execution_count": 17,
   "metadata": {},
   "outputs": [],
   "source": [
    "sumatoria_lista = sumatoria_de_lista(lista_numeros)"
   ]
  },
  {
   "cell_type": "code",
   "execution_count": 18,
   "metadata": {},
   "outputs": [
    {
     "data": {
      "text/plain": [
       "15"
      ]
     },
     "execution_count": 18,
     "metadata": {},
     "output_type": "execute_result"
    }
   ],
   "source": [
    "sumatoria_lista()"
   ]
  },
  {
   "cell_type": "markdown",
   "metadata": {},
   "source": [
    "Así como vemos, hemos definido confunciones anidadas una función sumatoria_de_lista() que retorna sumatoria(), así es como la variable sumatoria_lista se vuelve nuestro closure"
   ]
  }
 ],
 "metadata": {
  "kernelspec": {
   "display_name": "Python 3",
   "language": "python",
   "name": "python3"
  },
  "language_info": {
   "codemirror_mode": {
    "name": "ipython",
    "version": 3
   },
   "file_extension": ".py",
   "mimetype": "text/x-python",
   "name": "python",
   "nbconvert_exporter": "python",
   "pygments_lexer": "ipython3",
   "version": "3.12.7"
  }
 },
 "nbformat": 4,
 "nbformat_minor": 2
}
